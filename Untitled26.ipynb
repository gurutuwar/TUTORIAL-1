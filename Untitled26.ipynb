{
 "cells": [
  {
   "cell_type": "code",
   "execution_count": 1,
   "id": "75d28ff5",
   "metadata": {},
   "outputs": [
    {
     "name": "stdout",
     "output_type": "stream",
     "text": [
      "generated password is )lIeg*Gp8\n"
     ]
    }
   ],
   "source": [
    "# password generator using python in 30 sec\n",
    "import random\n",
    "lower_case = \"abcdefghijklmnopqrstuvwxyz\"\n",
    "\n",
    "upper_case = \"ABCDEFGHIJKLMNOPQRSTUVWXYZ\"\n",
    "num = \"0123456789\"\n",
    "symbol = \"[]{}#()*;.-\"\n",
    "ans = lower_case + upper_case + num + symbol\n",
    "lenght = 9\n",
    "password = \"\".join(random.sample(ans,lenght))\n",
    "print(\"generated password is\",password)"
   ]
  },
  {
   "cell_type": "code",
   "execution_count": null,
   "id": "dd7e4dc9",
   "metadata": {},
   "outputs": [],
   "source": []
  }
 ],
 "metadata": {
  "kernelspec": {
   "display_name": "Python 3 (ipykernel)",
   "language": "python",
   "name": "python3"
  },
  "language_info": {
   "codemirror_mode": {
    "name": "ipython",
    "version": 3
   },
   "file_extension": ".py",
   "mimetype": "text/x-python",
   "name": "python",
   "nbconvert_exporter": "python",
   "pygments_lexer": "ipython3",
   "version": "3.9.13"
  }
 },
 "nbformat": 4,
 "nbformat_minor": 5
}
